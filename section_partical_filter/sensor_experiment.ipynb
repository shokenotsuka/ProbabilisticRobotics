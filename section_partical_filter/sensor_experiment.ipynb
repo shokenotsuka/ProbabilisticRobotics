{
 "cells": [
  {
   "cell_type": "code",
   "execution_count": 2,
   "id": "ed97c208",
   "metadata": {},
   "outputs": [
    {
     "data": {
      "text/html": [
       "<div>\n",
       "<style scoped>\n",
       "    .dataframe tbody tr th:only-of-type {\n",
       "        vertical-align: middle;\n",
       "    }\n",
       "\n",
       "    .dataframe tbody tr th {\n",
       "        vertical-align: top;\n",
       "    }\n",
       "\n",
       "    .dataframe thead th {\n",
       "        text-align: right;\n",
       "    }\n",
       "</style>\n",
       "<table border=\"1\" class=\"dataframe\">\n",
       "  <thead>\n",
       "    <tr style=\"text-align: right;\">\n",
       "      <th></th>\n",
       "      <th>distance</th>\n",
       "      <th>direction</th>\n",
       "    </tr>\n",
       "  </thead>\n",
       "  <tbody>\n",
       "    <tr>\n",
       "      <th>0</th>\n",
       "      <td>0.926924</td>\n",
       "      <td>-0.082730</td>\n",
       "    </tr>\n",
       "    <tr>\n",
       "      <th>1</th>\n",
       "      <td>0.962473</td>\n",
       "      <td>0.003105</td>\n",
       "    </tr>\n",
       "    <tr>\n",
       "      <th>2</th>\n",
       "      <td>1.067299</td>\n",
       "      <td>-0.007175</td>\n",
       "    </tr>\n",
       "    <tr>\n",
       "      <th>3</th>\n",
       "      <td>0.873789</td>\n",
       "      <td>-0.005630</td>\n",
       "    </tr>\n",
       "    <tr>\n",
       "      <th>4</th>\n",
       "      <td>0.879262</td>\n",
       "      <td>-0.016899</td>\n",
       "    </tr>\n",
       "    <tr>\n",
       "      <th>...</th>\n",
       "      <td>...</td>\n",
       "      <td>...</td>\n",
       "    </tr>\n",
       "    <tr>\n",
       "      <th>894</th>\n",
       "      <td>1.161744</td>\n",
       "      <td>-0.071239</td>\n",
       "    </tr>\n",
       "    <tr>\n",
       "      <th>895</th>\n",
       "      <td>1.109003</td>\n",
       "      <td>0.024999</td>\n",
       "    </tr>\n",
       "    <tr>\n",
       "      <th>896</th>\n",
       "      <td>0.831367</td>\n",
       "      <td>-0.005506</td>\n",
       "    </tr>\n",
       "    <tr>\n",
       "      <th>897</th>\n",
       "      <td>1.062306</td>\n",
       "      <td>-0.064455</td>\n",
       "    </tr>\n",
       "    <tr>\n",
       "      <th>898</th>\n",
       "      <td>1.061403</td>\n",
       "      <td>-0.035128</td>\n",
       "    </tr>\n",
       "  </tbody>\n",
       "</table>\n",
       "<p>899 rows × 2 columns</p>\n",
       "</div>"
      ],
      "text/plain": [
       "     distance  direction\n",
       "0    0.926924  -0.082730\n",
       "1    0.962473   0.003105\n",
       "2    1.067299  -0.007175\n",
       "3    0.873789  -0.005630\n",
       "4    0.879262  -0.016899\n",
       "..        ...        ...\n",
       "894  1.161744  -0.071239\n",
       "895  1.109003   0.024999\n",
       "896  0.831367  -0.005506\n",
       "897  1.062306  -0.064455\n",
       "898  1.061403  -0.035128\n",
       "\n",
       "[899 rows x 2 columns]"
      ]
     },
     "execution_count": 2,
     "metadata": {},
     "output_type": "execute_result"
    }
   ],
   "source": [
    "import sys\n",
    "sys.path.append(\"../scripts/\")\n",
    "from robot import *\n",
    "\n",
    "m=Map()\n",
    "m.append_landmark(Landmark(1,0))\n",
    "\n",
    "distance=[]\n",
    "direction=[]\n",
    "\n",
    "for i in range(1000):\n",
    "    c=Camera(m)\n",
    "    d=c.data(np.array([0.0,0.0,0.0]).T)\n",
    "    if len(d)>0:\n",
    "        distance.append(d[0][0][0])\n",
    "        direction.append(d[0][0][1])\n",
    "        \n",
    "import pandas as pd\n",
    "df = pd.DataFrame()\n",
    "df[\"distance\"]=distance\n",
    "df[\"direction\"]=direction\n",
    "df"
   ]
  },
  {
   "cell_type": "code",
   "execution_count": 3,
   "id": "dad48186",
   "metadata": {},
   "outputs": [
    {
     "data": {
      "text/plain": [
       "distance     0.144468\n",
       "direction    0.050349\n",
       "dtype: float64"
      ]
     },
     "execution_count": 3,
     "metadata": {},
     "output_type": "execute_result"
    }
   ],
   "source": [
    "df.std()"
   ]
  },
  {
   "cell_type": "code",
   "execution_count": 4,
   "id": "57c498d3",
   "metadata": {},
   "outputs": [
    {
     "data": {
      "text/plain": [
       "distance     0.993408\n",
       "direction   -0.002362\n",
       "dtype: float64"
      ]
     },
     "execution_count": 4,
     "metadata": {},
     "output_type": "execute_result"
    }
   ],
   "source": [
    "df.mean()"
   ]
  },
  {
   "cell_type": "code",
   "execution_count": null,
   "id": "605ac949",
   "metadata": {},
   "outputs": [],
   "source": []
  }
 ],
 "metadata": {
  "kernelspec": {
   "display_name": "Python 3",
   "language": "python",
   "name": "python3"
  },
  "language_info": {
   "codemirror_mode": {
    "name": "ipython",
    "version": 3
   },
   "file_extension": ".py",
   "mimetype": "text/x-python",
   "name": "python",
   "nbconvert_exporter": "python",
   "pygments_lexer": "ipython3",
   "version": "3.8.8"
  }
 },
 "nbformat": 4,
 "nbformat_minor": 5
}
